{
 "cells": [
  {
   "cell_type": "code",
   "execution_count": 254,
   "id": "5b43d4e1",
   "metadata": {},
   "outputs": [],
   "source": [
    "import numpy as np\n",
    "import matplotlib.pyplot as plt\n",
    "import pandas as pd"
   ]
  },
  {
   "cell_type": "code",
   "execution_count": 255,
   "id": "87eed109",
   "metadata": {},
   "outputs": [],
   "source": [
    "dataset= pd.read_csv(\"student_data.csv\")"
   ]
  },
  {
   "cell_type": "code",
   "execution_count": 256,
   "id": "d6c72756",
   "metadata": {
    "scrolled": false
   },
   "outputs": [
    {
     "data": {
      "text/html": [
       "<div>\n",
       "<style scoped>\n",
       "    .dataframe tbody tr th:only-of-type {\n",
       "        vertical-align: middle;\n",
       "    }\n",
       "\n",
       "    .dataframe tbody tr th {\n",
       "        vertical-align: top;\n",
       "    }\n",
       "\n",
       "    .dataframe thead th {\n",
       "        text-align: right;\n",
       "    }\n",
       "</style>\n",
       "<table border=\"1\" class=\"dataframe\">\n",
       "  <thead>\n",
       "    <tr style=\"text-align: right;\">\n",
       "      <th></th>\n",
       "      <th>Student ID</th>\n",
       "      <th>Student Name</th>\n",
       "      <th>Date of Birth</th>\n",
       "      <th>Field of Study</th>\n",
       "      <th>Year of Admission</th>\n",
       "      <th>Expected Year of Graduation</th>\n",
       "      <th>Current Semester</th>\n",
       "      <th>Specialization</th>\n",
       "      <th>Sal</th>\n",
       "      <th>Discount</th>\n",
       "    </tr>\n",
       "  </thead>\n",
       "  <tbody>\n",
       "    <tr>\n",
       "      <th>0</th>\n",
       "      <td>165527</td>\n",
       "      <td>Bryan Rogers</td>\n",
       "      <td>19-01-2006</td>\n",
       "      <td>Computer Science</td>\n",
       "      <td>2020</td>\n",
       "      <td>2017</td>\n",
       "      <td>3</td>\n",
       "      <td>Web Development</td>\n",
       "      <td>155152</td>\n",
       "      <td>19572</td>\n",
       "    </tr>\n",
       "    <tr>\n",
       "      <th>1</th>\n",
       "      <td>635763</td>\n",
       "      <td>James Hogan</td>\n",
       "      <td>23-05-1999</td>\n",
       "      <td>Mechanical Engineering</td>\n",
       "      <td>2020</td>\n",
       "      <td>2020</td>\n",
       "      <td>2</td>\n",
       "      <td>Machine Learning</td>\n",
       "      <td>157870</td>\n",
       "      <td>14760</td>\n",
       "    </tr>\n",
       "    <tr>\n",
       "      <th>2</th>\n",
       "      <td>740021</td>\n",
       "      <td>David Robinson</td>\n",
       "      <td>02-12-1997</td>\n",
       "      <td>Civil Engineering</td>\n",
       "      <td>2017</td>\n",
       "      <td>2022</td>\n",
       "      <td>1</td>\n",
       "      <td>Network Security</td>\n",
       "      <td>55662</td>\n",
       "      <td>5871</td>\n",
       "    </tr>\n",
       "    <tr>\n",
       "      <th>3</th>\n",
       "      <td>433076</td>\n",
       "      <td>Susan Miller</td>\n",
       "      <td>30-10-1999</td>\n",
       "      <td>Computer Science</td>\n",
       "      <td>2021</td>\n",
       "      <td>2019</td>\n",
       "      <td>1</td>\n",
       "      <td>Data Science</td>\n",
       "      <td>134955</td>\n",
       "      <td>17284</td>\n",
       "    </tr>\n",
       "    <tr>\n",
       "      <th>4</th>\n",
       "      <td>441628</td>\n",
       "      <td>Brittany Martin</td>\n",
       "      <td>10-01-1998</td>\n",
       "      <td>Chemical Engineering</td>\n",
       "      <td>2016</td>\n",
       "      <td>2018</td>\n",
       "      <td>1</td>\n",
       "      <td>Network Security</td>\n",
       "      <td>125934</td>\n",
       "      <td>14871</td>\n",
       "    </tr>\n",
       "  </tbody>\n",
       "</table>\n",
       "</div>"
      ],
      "text/plain": [
       "   Student ID     Student Name Date of Birth          Field of Study  \\\n",
       "0      165527     Bryan Rogers    19-01-2006        Computer Science   \n",
       "1      635763      James Hogan    23-05-1999  Mechanical Engineering   \n",
       "2      740021   David Robinson    02-12-1997       Civil Engineering   \n",
       "3      433076     Susan Miller    30-10-1999        Computer Science   \n",
       "4      441628  Brittany Martin    10-01-1998    Chemical Engineering   \n",
       "\n",
       "   Year of Admission  Expected Year of Graduation  Current Semester  \\\n",
       "0               2020                         2017                 3   \n",
       "1               2020                         2020                 2   \n",
       "2               2017                         2022                 1   \n",
       "3               2021                         2019                 1   \n",
       "4               2016                         2018                 1   \n",
       "\n",
       "     Specialization     Sal  Discount  \n",
       "0   Web Development  155152     19572  \n",
       "1  Machine Learning  157870     14760  \n",
       "2  Network Security   55662      5871  \n",
       "3      Data Science  134955     17284  \n",
       "4  Network Security  125934     14871  "
      ]
     },
     "execution_count": 256,
     "metadata": {},
     "output_type": "execute_result"
    }
   ],
   "source": [
    "dataset.head()"
   ]
  },
  {
   "cell_type": "code",
   "execution_count": 257,
   "id": "3e8da18f",
   "metadata": {},
   "outputs": [],
   "source": [
    "dataset.drop(['Student ID','Student Name','Student Name','Date of Birth','Year of Admission','Expected Year of Graduation','Discount'],axis=1,inplace= True)"
   ]
  },
  {
   "cell_type": "code",
   "execution_count": 258,
   "id": "9e020c1f",
   "metadata": {},
   "outputs": [
    {
     "data": {
      "text/html": [
       "<div>\n",
       "<style scoped>\n",
       "    .dataframe tbody tr th:only-of-type {\n",
       "        vertical-align: middle;\n",
       "    }\n",
       "\n",
       "    .dataframe tbody tr th {\n",
       "        vertical-align: top;\n",
       "    }\n",
       "\n",
       "    .dataframe thead th {\n",
       "        text-align: right;\n",
       "    }\n",
       "</style>\n",
       "<table border=\"1\" class=\"dataframe\">\n",
       "  <thead>\n",
       "    <tr style=\"text-align: right;\">\n",
       "      <th></th>\n",
       "      <th>Field of Study</th>\n",
       "      <th>Current Semester</th>\n",
       "      <th>Specialization</th>\n",
       "      <th>Sal</th>\n",
       "    </tr>\n",
       "  </thead>\n",
       "  <tbody>\n",
       "    <tr>\n",
       "      <th>0</th>\n",
       "      <td>Computer Science</td>\n",
       "      <td>3</td>\n",
       "      <td>Web Development</td>\n",
       "      <td>155152</td>\n",
       "    </tr>\n",
       "    <tr>\n",
       "      <th>1</th>\n",
       "      <td>Mechanical Engineering</td>\n",
       "      <td>2</td>\n",
       "      <td>Machine Learning</td>\n",
       "      <td>157870</td>\n",
       "    </tr>\n",
       "    <tr>\n",
       "      <th>2</th>\n",
       "      <td>Civil Engineering</td>\n",
       "      <td>1</td>\n",
       "      <td>Network Security</td>\n",
       "      <td>55662</td>\n",
       "    </tr>\n",
       "    <tr>\n",
       "      <th>3</th>\n",
       "      <td>Computer Science</td>\n",
       "      <td>1</td>\n",
       "      <td>Data Science</td>\n",
       "      <td>134955</td>\n",
       "    </tr>\n",
       "    <tr>\n",
       "      <th>4</th>\n",
       "      <td>Chemical Engineering</td>\n",
       "      <td>1</td>\n",
       "      <td>Network Security</td>\n",
       "      <td>125934</td>\n",
       "    </tr>\n",
       "  </tbody>\n",
       "</table>\n",
       "</div>"
      ],
      "text/plain": [
       "           Field of Study  Current Semester    Specialization     Sal\n",
       "0        Computer Science                 3   Web Development  155152\n",
       "1  Mechanical Engineering                 2  Machine Learning  157870\n",
       "2       Civil Engineering                 1  Network Security   55662\n",
       "3        Computer Science                 1      Data Science  134955\n",
       "4    Chemical Engineering                 1  Network Security  125934"
      ]
     },
     "execution_count": 258,
     "metadata": {},
     "output_type": "execute_result"
    }
   ],
   "source": [
    "dataset.head()"
   ]
  },
  {
   "cell_type": "code",
   "execution_count": 259,
   "id": "9b263978",
   "metadata": {},
   "outputs": [],
   "source": [
    "x=dataset.iloc[:,:-1].values\n",
    "y=dataset.iloc[:,-1].values"
   ]
  },
  {
   "cell_type": "code",
   "execution_count": 260,
   "id": "fce723a8",
   "metadata": {},
   "outputs": [
    {
     "name": "stdout",
     "output_type": "stream",
     "text": [
      "[['Computer Science' 3 'Web Development']\n",
      " ['Mechanical Engineering' 2 'Machine Learning']\n",
      " ['Civil Engineering' 1 'Network Security']\n",
      " ...\n",
      " ['Chemical Engineering' 1 'Data Science']\n",
      " ['Civil Engineering' 1 'Data Science']\n",
      " ['Computer Science' 2 'Machine Learning']]\n"
     ]
    }
   ],
   "source": [
    "print(x)"
   ]
  },
  {
   "cell_type": "code",
   "execution_count": 261,
   "id": "8dc82821",
   "metadata": {},
   "outputs": [
    {
     "name": "stdout",
     "output_type": "stream",
     "text": [
      "[155152 157870  55662 ... 139430  73117  75582]\n"
     ]
    }
   ],
   "source": [
    "print(y)"
   ]
  },
  {
   "cell_type": "code",
   "execution_count": 264,
   "id": "d4b7a24b",
   "metadata": {},
   "outputs": [],
   "source": [
    "from sklearn.compose import make_column_transformer\n",
    "from sklearn.preprocessing import OneHotEncoder\n",
    "c=make_column_transformer( (OneHotEncoder(categories='auto'),[0, 2]), remainder=\"passthrough\" )\n",
    "x=c.fit_transform(x)\n"
   ]
  },
  {
   "cell_type": "code",
   "execution_count": 265,
   "id": "2d9c77e3",
   "metadata": {},
   "outputs": [
    {
     "name": "stdout",
     "output_type": "stream",
     "text": [
      "2\n",
      "(200000, 11) (200000,)\n",
      "  (0, 2)\t1.0\n",
      "  (0, 9)\t1.0\n",
      "  (0, 10)\t3.0\n",
      "  (1, 4)\t1.0\n",
      "  (1, 7)\t1.0\n",
      "  (1, 10)\t2.0\n",
      "  (2, 1)\t1.0\n",
      "  (2, 8)\t1.0\n",
      "  (2, 10)\t1.0\n",
      "  (3, 2)\t1.0\n",
      "  (3, 6)\t1.0\n",
      "  (3, 10)\t1.0\n",
      "  (4, 0)\t1.0\n",
      "  (4, 8)\t1.0\n",
      "  (4, 10)\t1.0\n",
      "  (5, 4)\t1.0\n",
      "  (5, 9)\t1.0\n",
      "  (5, 10)\t4.0\n",
      "  (6, 4)\t1.0\n",
      "  (6, 5)\t1.0\n",
      "  (6, 10)\t1.0\n",
      "  (7, 3)\t1.0\n",
      "  (7, 5)\t1.0\n",
      "  (7, 10)\t2.0\n",
      "  (8, 0)\t1.0\n",
      "  :\t:\n",
      "  (199991, 10)\t3.0\n",
      "  (199992, 4)\t1.0\n",
      "  (199992, 5)\t1.0\n",
      "  (199992, 10)\t3.0\n",
      "  (199993, 2)\t1.0\n",
      "  (199993, 7)\t1.0\n",
      "  (199993, 10)\t1.0\n",
      "  (199994, 0)\t1.0\n",
      "  (199994, 9)\t1.0\n",
      "  (199994, 10)\t3.0\n",
      "  (199995, 3)\t1.0\n",
      "  (199995, 6)\t1.0\n",
      "  (199995, 10)\t4.0\n",
      "  (199996, 3)\t1.0\n",
      "  (199996, 9)\t1.0\n",
      "  (199996, 10)\t3.0\n",
      "  (199997, 0)\t1.0\n",
      "  (199997, 6)\t1.0\n",
      "  (199997, 10)\t1.0\n",
      "  (199998, 1)\t1.0\n",
      "  (199998, 6)\t1.0\n",
      "  (199998, 10)\t1.0\n",
      "  (199999, 2)\t1.0\n",
      "  (199999, 7)\t1.0\n",
      "  (199999, 10)\t2.0\n"
     ]
    }
   ],
   "source": [
    "print(x.ndim)\n",
    "print(x.shape,y.shape)\n",
    "type(x)\n",
    "print(x)"
   ]
  },
  {
   "cell_type": "code",
   "execution_count": 266,
   "id": "05aec7d1",
   "metadata": {},
   "outputs": [],
   "source": [
    "from sklearn.model_selection import train_test_split\n",
    "X_train, X_test, y_train, y_test = train_test_split(x, y, test_size = 0.4, random_state = 0)"
   ]
  },
  {
   "cell_type": "code",
   "execution_count": 267,
   "id": "9321069e",
   "metadata": {},
   "outputs": [
    {
     "data": {
      "text/plain": [
       "LinearRegression()"
      ]
     },
     "execution_count": 267,
     "metadata": {},
     "output_type": "execute_result"
    }
   ],
   "source": [
    "from sklearn.linear_model import LinearRegression\n",
    "regressor = LinearRegression()\n",
    "regressor.fit(X_train, y_train)"
   ]
  },
  {
   "cell_type": "code",
   "execution_count": 268,
   "id": "9872dbef",
   "metadata": {},
   "outputs": [
    {
     "name": "stdout",
     "output_type": "stream",
     "text": [
      "[-0.04485653394488032, 0.18560171315042875, -1.1952675986695582, 0.32155410409218443, -1.2488187655133904, 0.11884639572219963, -0.502418091291377, -0.7309748533353154, -0.8227354200341451, 0.1901338913130672, 0.2580339934949149, 0.26203054435129974, 0.11655905598629172, 0.25906965006548116, -0.17929191704009478, -0.5601464436482242, -0.010232054382438934, 0.172380267876388, -0.7633195306652096, -0.8910882602596123, 0.34930125655026373, 0.28476217396342135, -0.3872656627264285, 0.345973159508916, 0.3682023432601982, 0.24699952957468782, -0.2550189600692119, 0.25931720563902244, -0.10207021849589454, 0.2269421615445153, 0.33553052271685246, -0.3556841308247509, 0.23652657698331392, -0.23363042109364693, -0.5776675149980707, 0.276325751350731, 0.13444572788354486, 0.3418855039597083, -0.1524701233927821, -0.4147397280754015, -0.248324530161248, -0.2879669400813898, 0.045990681692843184, 0.37691898770269583, 0.006570960434456037, -0.3004829302439672, 0.3681479267498523, 0.2155597617438267, 0.12631921252066428, -0.14404380071694056, -0.8148722500944211, -0.10490512682868411, -1.3007722603280685, -0.47687726782214634, -0.6564504564517989, -0.9684985347041827, -0.002427792673150912, 0.014105691435304133, 0.1384019302885979, 0.22823897872826238, 0.3612558356327726, -0.13369846317469802, 0.10998403227871861, 0.11496823983860081, -0.740371917080959, 0.3307181464175818, 0.33161234024603836, -0.4240841329283571, 0.3146184174155491, -0.19773998775912666, -0.264480292835246, 0.28154517417431285, 0.019384923439822115, 0.1350039248646587, 0.30918885736584006, -0.34823431240253955, -0.3088046923817947, -1.2884692748780768, -0.6309894707610575, 0.15901068436782329, 0.06117912274406336, -1.2954965687235809, 0.10268279746398368, 0.28966384514774834, 0.11500556449648884, -0.6165118843876158, -0.09971703390042765, 0.17592760191898127, 0.2688598982227993, -1.0209194925608915, 0.35485946512951494, -1.3885973701044356, -0.662650686885769, 0.3558027564652391, 0.3407480882625287, 0.027790401765925593, -0.1376239375530392, -0.8236299892483299, -1.1420506992771216, -1.0048778360367965]\n"
     ]
    }
   ],
   "source": [
    "y=[]\n",
    "for i in range(len(y_test)):\n",
    "    y.append( (y_test[i]-y_pred[i])/y_test[i])\n",
    "print(y[:100])\n"
   ]
  },
  {
   "cell_type": "code",
   "execution_count": 271,
   "id": "14a5ed2d",
   "metadata": {},
   "outputs": [
    {
     "data": {
      "image/png": "[encoded data removed]",
      "text/plain": [
       "<Figure size 432x288 with 1 Axes>"
      ]
     },
     "metadata": {
      "needs_background": "light"
     },
     "output_type": "display_data"
    }
   ],
   "source": [
    "\n",
    "plt.plot(y[20:50])\n",
    "plt.show()"
   ]
  },
  {
   "cell_type": "code",
   "execution_count": null,
   "id": "cd59518b",
   "metadata": {},
   "outputs": [],
   "source": []
  },
  {
   "cell_type": "code",
   "execution_count": null,
   "id": "560c876c",
   "metadata": {},
   "outputs": [],
   "source": []
  },
  {
   "cell_type": "code",
   "execution_count": null,
   "id": "be88c965",
   "metadata": {},
   "outputs": [],
   "source": []
  },
  {
   "cell_type": "code",
   "execution_count": null,
   "id": "8e8df746",
   "metadata": {},
   "outputs": [],
   "source": []
  },
  {
   "cell_type": "code",
   "execution_count": null,
   "id": "27fc6b2a",
   "metadata": {},
   "outputs": [],
   "source": []
  },
  {
   "cell_type": "code",
   "execution_count": null,
   "id": "48bf33d7",
   "metadata": {},
   "outputs": [],
   "source": []
  },
  {
   "cell_type": "code",
   "execution_count": null,
   "id": "a503d908",
   "metadata": {},
   "outputs": [],
   "source": []
  },
  {
   "cell_type": "code",
   "execution_count": null,
   "id": "b99997f1",
   "metadata": {},
   "outputs": [],
   "source": []
  },
  {
   "cell_type": "code",
   "execution_count": null,
   "id": "6258eb9b",
   "metadata": {},
   "outputs": [],
   "source": []
  },
  {
   "cell_type": "code",
   "execution_count": null,
   "id": "343c65e7",
   "metadata": {},
   "outputs": [],
   "source": [
    "from sklearn.linear_model import LinearRegression\n",
    "linear_reg = LinearRegression()\n",
    "from sklearn.preprocessing import PolynomialFeatures\n",
    "polynomial_reg = PolynomialFeatures(degree = 4)\n",
    "X_poly = polynomial_reg.fit_transform(x)\n",
    "\n",
    "linear_reg_2 = LinearRegression()\n",
    "linear_reg_2.fit(X_poly, y)"
   ]
  },
  {
   "cell_type": "code",
   "execution_count": null,
   "id": "694720a5",
   "metadata": {},
   "outputs": [],
   "source": [
    "y_pred = linear_reg_2.predict(polynomial_reg.fit_transform(x))\n",
    "y_pred"
   ]
  },
  {
   "cell_type": "code",
   "execution_count": 270,
   "id": "219a7c4b",
   "metadata": {},
   "outputs": [
    {
     "data": {
      "text/plain": [
       "[<matplotlib.lines.Line2D at 0x256a2bf4f40>]"
      ]
     },
     "execution_count": 270,
     "metadata": {},
     "output_type": "execute_result"
    },
    {
     "data": {
      "image/png": "[encoded data removed]",
      "text/plain": [
       "<Figure size 432x288 with 1 Axes>"
      ]
     },
     "metadata": {
      "needs_background": "light"
     },
     "output_type": "display_data"
    }
   ],
   "source": [
    "plt.plot(y_pred[:10])\n",
    "plt.plot(y[:10])"
   ]
  },
  {
   "cell_type": "code",
   "execution_count": null,
   "id": "175620c3",
   "metadata": {},
   "outputs": [],
   "source": [
    "err=np.array(y_pred-y)\n",
    "print(err)"
   ]
  },
  {
   "cell_type": "code",
   "execution_count": null,
   "id": "ae6dab93",
   "metadata": {},
   "outputs": [],
   "source": []
  },
  {
   "cell_type": "code",
   "execution_count": null,
   "id": "60c94c28",
   "metadata": {},
   "outputs": [],
   "source": []
  },
  {
   "cell_type": "code",
   "execution_count": null,
   "id": "8e7d5b57",
   "metadata": {},
   "outputs": [],
   "source": []
  }
 ],
 "metadata": {
  "celltoolbar": "Raw Cell Format",
  "kernelspec": {
   "display_name": "Python 3 (ipykernel)",
   "language": "python",
   "name": "python3"
  },
  "language_info": {
   "codemirror_mode": {
    "name": "ipython",
    "version": 3
   },
   "file_extension": ".py",
   "mimetype": "text/x-python",
   "name": "python",
   "nbconvert_exporter": "python",
   "pygments_lexer": "ipython3",
   "version": "3.9.7"
  }
 },
 "nbformat": 4,
 "nbformat_minor": 5
}
